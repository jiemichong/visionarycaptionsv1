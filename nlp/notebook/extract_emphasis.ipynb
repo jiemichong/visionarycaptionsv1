{
 "cells": [
  {
   "cell_type": "code",
   "execution_count": 1,
   "metadata": {},
   "outputs": [],
   "source": [
    "import spacy\n",
    "import json\n",
    "from pprint import pprint\n",
    "from spacy import displacy\n",
    "\n",
    "\n",
    "spacy.prefer_gpu()\n",
    "nlp = spacy.load(\"en_core_web_sm\")"
   ]
  },
  {
   "cell_type": "code",
   "execution_count": 2,
   "metadata": {},
   "outputs": [],
   "source": [
    "with open('../data/caption.json') as f:\n",
    "    data = json.load(f)"
   ]
  },
  {
   "cell_type": "code",
   "execution_count": 3,
   "metadata": {},
   "outputs": [
    {
     "name": "stdout",
     "output_type": "stream",
     "text": [
      "[{'end': '00:00:08,720',\n",
      "  'index': 1,\n",
      "  'start': '00:00:01,920',\n",
      "  'text': 'The histogram above shows the distribution of calories for all '\n",
      "          'orders.'},\n",
      " {'end': '00:00:14,480',\n",
      "  'index': 2,\n",
      "  'start': '00:00:08,720',\n",
      "  'text': 'The spike around 1000 calories represents standard burrito orders'},\n",
      " {'end': '00:00:22,480',\n",
      "  'index': 3,\n",
      "  'start': '00:00:14,480',\n",
      "  'text': 'a meat burrito with typical additions cheese, salsa, lettuce, sour, '\n",
      "          'cream, rice and beans.'},\n",
      " {'end': '00:00:30,160',\n",
      "  'index': 4,\n",
      "  'start': '00:00:22,480',\n",
      "  'text': \"If you order a meat burrito at chipotle with these toppings, it's \"\n",
      "          'very likely to reach 1000 calories'},\n",
      " {'end': '00:00:33,840',\n",
      "  'index': 5,\n",
      "  'start': '00:00:30,160',\n",
      "  'text': \"but there's so much more to these data than the averages.\"},\n",
      " {'end': '00:00:43,280',\n",
      "  'index': 6,\n",
      "  'start': '00:00:33,840',\n",
      "  'text': 'Chipotle customers can and do order meals with fewer than 650 '\n",
      "          'calories such as a cheese-free burrito bowl.'},\n",
      " {'end': '00:00:51,920',\n",
      "  'index': 7,\n",
      "  'start': '00:00:43,280',\n",
      "  'text': 'On the other end of the spectrum about 1 in 10 meals have more than '\n",
      "          '1600 calories.'}]\n"
     ]
    }
   ],
   "source": [
    "pprint(data['captions'])"
   ]
  },
  {
   "cell_type": "code",
   "execution_count": 4,
   "metadata": {},
   "outputs": [],
   "source": [
    "sentences = [caption['text'] for caption in data['captions']]"
   ]
  },
  {
   "cell_type": "code",
   "execution_count": 6,
   "metadata": {
    "scrolled": true
   },
   "outputs": [
    {
     "name": "stdout",
     "output_type": "stream",
     "text": [
      "../data/sentence.dependency.0.svg\n",
      "../data/sentence.dependency.1.svg\n",
      "../data/sentence.dependency.2.svg\n",
      "../data/sentence.dependency.3.svg\n",
      "../data/sentence.dependency.4.svg\n",
      "../data/sentence.dependency.5.svg\n",
      "../data/sentence.dependency.6.svg\n"
     ]
    }
   ],
   "source": [
    "# https://spacy.io/usage/visualizers\n",
    "\n",
    "from pathlib import Path\n",
    "\n",
    "for i, sentence in enumerate(sentences):\n",
    "    doc = nlp(sentence)\n",
    "    \n",
    "    svg = displacy.render(doc, style=\"dep\", jupyter=False)\n",
    "    output_filename = \"../data/sentence.dependency.{}.svg\".format(i)\n",
    "    print(output_filename)\n",
    "    output_path = Path(output_filename)\n",
    "    output_path.open(\"w\", encoding=\"utf-8\").write(svg)"
   ]
  },
  {
   "cell_type": "code",
   "execution_count": 5,
   "metadata": {},
   "outputs": [],
   "source": [
    "new_captions = []\n",
    "for idx, sentence in enumerate(sentences, 1):\n",
    "    doc = nlp(sentence)\n",
    "    nummods = [token for token in doc if token.dep_ == \"nummod\"]\n",
    "    emphasis_texts = []\n",
    "    for nummod in nummods:    \n",
    "        for token in doc:\n",
    "            if nummod in token.lefts:\n",
    "                emph = ''.join([t.text_with_ws for t in token.subtree]).strip()\n",
    "                emphasis_texts.append(emph)\n",
    "                \n",
    "    _caption = next(filter(lambda cap: cap['index'] == idx, data['captions']))\n",
    "    _caption['properties'] = {}\n",
    "    _caption['properties']['emphasis'] = emphasis_texts\n",
    "    new_captions.append(_caption)\n"
   ]
  },
  {
   "cell_type": "code",
   "execution_count": 8,
   "metadata": {},
   "outputs": [
    {
     "data": {
      "text/plain": [
       "['10 meals', 'more than 1600 calories']"
      ]
     },
     "execution_count": 8,
     "metadata": {},
     "output_type": "execute_result"
    }
   ],
   "source": [
    "emphasis_texts"
   ]
  },
  {
   "cell_type": "code",
   "execution_count": 7,
   "metadata": {},
   "outputs": [
    {
     "name": "stdout",
     "output_type": "stream",
     "text": [
      "{'end': '00:00:08,720',\n",
      " 'index': 1,\n",
      " 'properties': {'emphasis': []},\n",
      " 'start': '00:00:01,920',\n",
      " 'text': 'The histogram above shows the distribution of calories for all '\n",
      "         'orders.'}\n",
      "{'end': '00:00:14,480',\n",
      " 'index': 2,\n",
      " 'properties': {'emphasis': ['The spike around 1000 calories']},\n",
      " 'start': '00:00:08,720',\n",
      " 'text': 'The spike around 1000 calories represents standard burrito orders'}\n",
      "{'end': '00:00:22,480',\n",
      " 'index': 3,\n",
      " 'properties': {'emphasis': []},\n",
      " 'start': '00:00:14,480',\n",
      " 'text': 'a meat burrito with typical additions cheese, salsa, lettuce, sour, '\n",
      "         'cream, rice and beans.'}\n",
      "{'end': '00:00:30,160',\n",
      " 'index': 4,\n",
      " 'properties': {'emphasis': ['1000 calories']},\n",
      " 'start': '00:00:22,480',\n",
      " 'text': \"If you order a meat burrito at chipotle with these toppings, it's \"\n",
      "         'very likely to reach 1000 calories'}\n",
      "{'end': '00:00:33,840',\n",
      " 'index': 5,\n",
      " 'properties': {'emphasis': []},\n",
      " 'start': '00:00:30,160',\n",
      " 'text': \"but there's so much more to these data than the averages.\"}\n",
      "{'end': '00:00:43,280',\n",
      " 'index': 6,\n",
      " 'properties': {'emphasis': ['fewer than 650 calories such as a cheese-free '\n",
      "                             'burrito bowl']},\n",
      " 'start': '00:00:33,840',\n",
      " 'text': 'Chipotle customers can and do order meals with fewer than 650 '\n",
      "         'calories such as a cheese-free burrito bowl.'}\n",
      "{'end': '00:00:51,920',\n",
      " 'index': 7,\n",
      " 'properties': {'emphasis': ['10 meals', 'more than 1600 calories']},\n",
      " 'start': '00:00:43,280',\n",
      " 'text': 'On the other end of the spectrum about 1 in 10 meals have more than '\n",
      "         '1600 calories.'}\n"
     ]
    }
   ],
   "source": [
    "for c in new_captions:\n",
    "    pprint(c)"
   ]
  },
  {
   "cell_type": "code",
   "execution_count": 9,
   "metadata": {},
   "outputs": [
    {
     "name": "stdout",
     "output_type": "stream",
     "text": [
      "{\n",
      "  \"captions\": [\n",
      "    {\n",
      "      \"index\": 1,\n",
      "      \"start\": \"00:00:01,920\",\n",
      "      \"end\": \"00:00:08,720\",\n",
      "      \"text\": \"The histogram above shows the distribution of calories for all orders.\",\n",
      "      \"properties\": {\n",
      "        \"emphasis\": []\n",
      "      }\n",
      "    },\n",
      "    {\n",
      "      \"index\": 2,\n",
      "      \"start\": \"00:00:08,720\",\n",
      "      \"end\": \"00:00:14,480\",\n",
      "      \"text\": \"The spike around 1000 calories represents standard burrito orders\",\n",
      "      \"properties\": {\n",
      "        \"emphasis\": [\n",
      "          \"The spike around 1000 calories\"\n",
      "        ]\n",
      "      }\n",
      "    },\n",
      "    {\n",
      "      \"index\": 3,\n",
      "      \"start\": \"00:00:14,480\",\n",
      "      \"end\": \"00:00:22,480\",\n",
      "      \"text\": \"a meat burrito with typical additions cheese, salsa, lettuce, sour, cream, rice and beans.\",\n",
      "      \"properties\": {\n",
      "        \"emphasis\": []\n",
      "      }\n",
      "    },\n",
      "    {\n",
      "      \"index\": 4,\n",
      "      \"start\": \"00:00:22,480\",\n",
      "      \"end\": \"00:00:30,160\",\n",
      "      \"text\": \"If you order a meat burrito at chipotle with these toppings, it's very likely to reach 1000 calories\",\n",
      "      \"properties\": {\n",
      "        \"emphasis\": [\n",
      "          \"1000 calories\"\n",
      "        ]\n",
      "      }\n",
      "    },\n",
      "    {\n",
      "      \"index\": 5,\n",
      "      \"start\": \"00:00:30,160\",\n",
      "      \"end\": \"00:00:33,840\",\n",
      "      \"text\": \"but there's so much more to these data than the averages.\",\n",
      "      \"properties\": {\n",
      "        \"emphasis\": []\n",
      "      }\n",
      "    },\n",
      "    {\n",
      "      \"index\": 6,\n",
      "      \"start\": \"00:00:33,840\",\n",
      "      \"end\": \"00:00:43,280\",\n",
      "      \"text\": \"Chipotle customers can and do order meals with fewer than 650 calories such as a cheese-free burrito bowl.\",\n",
      "      \"properties\": {\n",
      "        \"emphasis\": [\n",
      "          \"fewer than 650 calories such as a cheese-free burrito bowl\"\n",
      "        ]\n",
      "      }\n",
      "    },\n",
      "    {\n",
      "      \"index\": 7,\n",
      "      \"start\": \"00:00:43,280\",\n",
      "      \"end\": \"00:00:51,920\",\n",
      "      \"text\": \"On the other end of the spectrum about 1 in 10 meals have more than 1600 calories.\",\n",
      "      \"properties\": {\n",
      "        \"emphasis\": [\n",
      "          \"10 meals\",\n",
      "          \"more than 1600 calories\"\n",
      "        ]\n",
      "      }\n",
      "    }\n",
      "  ]\n",
      "}\n"
     ]
    }
   ],
   "source": [
    "d = { \"captions\": new_captions }\n",
    "json_object = json.dumps(d, indent = 2)  \n",
    "\n",
    "print(json_object)"
   ]
  },
  {
   "cell_type": "code",
   "execution_count": null,
   "metadata": {},
   "outputs": [],
   "source": []
  }
 ],
 "metadata": {
  "kernelspec": {
   "display_name": "Python 3",
   "language": "python",
   "name": "python3"
  },
  "language_info": {
   "codemirror_mode": {
    "name": "ipython",
    "version": 3
   },
   "file_extension": ".py",
   "mimetype": "text/x-python",
   "name": "python",
   "nbconvert_exporter": "python",
   "pygments_lexer": "ipython3",
   "version": "3.9.2"
  }
 },
 "nbformat": 4,
 "nbformat_minor": 2
}
